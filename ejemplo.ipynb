{
 "cells": [
  {
   "cell_type": "markdown",
   "id": "77c880e4-4f65-4fca-a3d9-6f78df2d05a4",
   "metadata": {},
   "source": [
    "# INTRODUCCIÓN \n",
    "este es un documento de python que me permite entender las bases de este lenguaje de progracio.<br>\n",
    "<img src= \"https://jahazielponce.com/wp-content/uploads/python.png\" > <br>\n",
    "https://github.com/villacis-cristian/machine-learning-1 <br>\n",
    "* Python Lenguaje de programacion\n",
    "* Java de programación\n",
    "## ESTOS SON COMENTARIOS\n",
    "a= 5\n",
    "print(¨el resultado de a es : ¨)"
   ]
  },
  {
   "cell_type": "code",
   "execution_count": null,
   "id": "69b6296d-e5ff-4fb5-bec1-4529b8e55739",
   "metadata": {},
   "outputs": [],
   "source": []
  },
  {
   "cell_type": "code",
   "execution_count": null,
   "id": "b5371e7e-bfa7-4975-8bf6-25e066a459e9",
   "metadata": {},
   "outputs": [],
   "source": []
  }
 ],
 "metadata": {
  "kernelspec": {
   "display_name": "Python 3 (ipykernel)",
   "language": "python",
   "name": "python3"
  },
  "language_info": {
   "codemirror_mode": {
    "name": "ipython",
    "version": 3
   },
   "file_extension": ".py",
   "mimetype": "text/x-python",
   "name": "python",
   "nbconvert_exporter": "python",
   "pygments_lexer": "ipython3",
   "version": "3.13.5"
  }
 },
 "nbformat": 4,
 "nbformat_minor": 5
}
